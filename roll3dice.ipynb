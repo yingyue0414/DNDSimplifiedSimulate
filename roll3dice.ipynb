{
 "cells": [
  {
   "cell_type": "code",
   "execution_count": 1,
   "id": "8bc30c9f",
   "metadata": {},
   "outputs": [],
   "source": [
    "import numpy as np\n",
    "import pandas as pd"
   ]
  },
  {
   "cell_type": "code",
   "execution_count": 24,
   "id": "cf1f9c89",
   "metadata": {},
   "outputs": [
    {
     "data": {
      "text/plain": [
       "array([5, 2, 2])"
      ]
     },
     "execution_count": 24,
     "metadata": {},
     "output_type": "execute_result"
    }
   ],
   "source": [
    "\n",
    "dices\n"
   ]
  },
  {
   "cell_type": "code",
   "execution_count": 25,
   "id": "ad9d0dc7",
   "metadata": {},
   "outputs": [
    {
     "data": {
      "text/plain": [
       "array([2, 2, 5])"
      ]
     },
     "execution_count": 25,
     "metadata": {},
     "output_type": "execute_result"
    }
   ],
   "source": [
    "np.sort(dices)"
   ]
  },
  {
   "cell_type": "code",
   "execution_count": 30,
   "id": "79aef3b9",
   "metadata": {},
   "outputs": [
    {
     "name": "stdout",
     "output_type": "stream",
     "text": [
      "0.49896\n"
     ]
    }
   ],
   "source": [
    "total_successes = 0\n",
    "total_trials = 0\n",
    "for i in range(100000):\n",
    "    dices = np.random.randint(0,6, 3) + 1\n",
    "    success = 0\n",
    "    for v in dices:\n",
    "        if v >= 4:\n",
    "            success += 1\n",
    "            total_successes += 1\n",
    "        total_trials += 1\n",
    "print(total_successes*1.0/total_trials)"
   ]
  },
  {
   "cell_type": "code",
   "execution_count": 31,
   "id": "ed446881",
   "metadata": {},
   "outputs": [
    {
     "name": "stdout",
     "output_type": "stream",
     "text": [
      "0.55708\n"
     ]
    }
   ],
   "source": [
    "total_successes = 0\n",
    "total_trials = 0\n",
    "for i in range(100000):\n",
    "    dices = np.sort(np.random.randint(0,6, 3) + 1)\n",
    "    dices[0] += 1\n",
    "    success = 0\n",
    "    for v in dices:\n",
    "        if v >= 4:\n",
    "            success += 1\n",
    "            total_successes += 1\n",
    "        total_trials += 1\n",
    "print(total_successes*1.0/total_trials)"
   ]
  },
  {
   "cell_type": "code",
   "execution_count": null,
   "id": "7980c70b",
   "metadata": {},
   "outputs": [],
   "source": []
  }
 ],
 "metadata": {
  "kernelspec": {
   "display_name": "Python 3 (ipykernel)",
   "language": "python",
   "name": "python3"
  },
  "language_info": {
   "codemirror_mode": {
    "name": "ipython",
    "version": 3
   },
   "file_extension": ".py",
   "mimetype": "text/x-python",
   "name": "python",
   "nbconvert_exporter": "python",
   "pygments_lexer": "ipython3",
   "version": "3.9.7"
  }
 },
 "nbformat": 4,
 "nbformat_minor": 5
}
